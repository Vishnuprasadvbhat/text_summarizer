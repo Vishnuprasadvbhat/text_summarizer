{
 "cells": [
  {
   "cell_type": "code",
   "execution_count": 1,
   "metadata": {},
   "outputs": [
    {
     "name": "stdout",
     "output_type": "stream",
     "text": [
      "Note: you may need to restart the kernel to use updated packages.Requirement already satisfied: virtualenv in c:\\users\\vishn\\appdata\\local\\programs\\python\\python311\\lib\\site-packages (20.23.0)\n",
      "Requirement already satisfied: distlib<1,>=0.3.6 in c:\\users\\vishn\\appdata\\local\\programs\\python\\python311\\lib\\site-packages (from virtualenv) (0.3.6)\n",
      "Requirement already satisfied: filelock<4,>=3.11 in c:\\users\\vishn\\appdata\\local\\programs\\python\\python311\\lib\\site-packages (from virtualenv) (3.12.0)\n",
      "Requirement already satisfied: platformdirs<4,>=3.2 in c:\\users\\vishn\\appdata\\roaming\\python\\python311\\site-packages (from virtualenv) (3.2.0)\n",
      "\n"
     ]
    },
    {
     "name": "stderr",
     "output_type": "stream",
     "text": [
      "\n",
      "[notice] A new release of pip is available: 23.3.1 -> 24.2\n",
      "[notice] To update, run: python.exe -m pip install --upgrade pip\n"
     ]
    }
   ],
   "source": [
    "pip install virtualenv\n"
   ]
  },
  {
   "cell_type": "code",
   "execution_count": 4,
   "metadata": {},
   "outputs": [],
   "source": [
    "import pandas as pd\n",
    "import numpy as np\n",
    "import requests"
   ]
  },
  {
   "cell_type": "code",
   "execution_count": 6,
   "metadata": {},
   "outputs": [
    {
     "name": "stdout",
     "output_type": "stream",
     "text": [
      "Requirement already satisfied: beautifulsoup4 in c:\\users\\vishn\\appdata\\local\\programs\\python\\python311\\lib\\site-packages (4.12.2)\n",
      "Requirement already satisfied: soupsieve>1.2 in c:\\users\\vishn\\appdata\\local\\programs\\python\\python311\\lib\\site-packages (from beautifulsoup4) (2.4.1)\n",
      "Note: you may need to restart the kernel to use updated packages.\n"
     ]
    },
    {
     "name": "stderr",
     "output_type": "stream",
     "text": [
      "\n",
      "[notice] A new release of pip is available: 23.3.1 -> 24.2\n",
      "[notice] To update, run: python.exe -m pip install --upgrade pip\n"
     ]
    }
   ],
   "source": [
    "pip install beautifulsoup4"
   ]
  },
  {
   "cell_type": "code",
   "execution_count": 7,
   "metadata": {},
   "outputs": [],
   "source": [
    "from bs4 import BeautifulSoup\n"
   ]
  },
  {
   "cell_type": "code",
   "execution_count": 8,
   "metadata": {},
   "outputs": [
    {
     "name": "stdout",
     "output_type": "stream",
     "text": [
      "\n",
      "<html><head><title>The Dormouse's story</title></head>\n",
      "<body>\n",
      "<p class=\"title\"><b>The Dormouse's story</b></p>\n",
      "<p class=\"story\">Once upon a time there were three little sisters; and their names were\n",
      "<a class=\"sister\" href=\"http://example.com/elsie\" id=\"link1\">Elsie</a>,\n",
      "<a class=\"sister\" href=\"http://example.com/lacie\" id=\"link2\">Lacie</a> and\n",
      "<a class=\"sister\" href=\"http://example.com/tillie\" id=\"link3\">Tillie</a>;\n",
      "and they lived at the bottom of a well.</p>\n",
      "<p class=\"story\">...</p>\n",
      "</body></html>\n"
     ]
    }
   ],
   "source": [
    "  # revision on bs4 package \n",
    "\n",
    "html_doc = \"\"\"\n",
    "<html><head><title>The Dormouse's story</title></head>\n",
    "<body>\n",
    "<p class=\"title\"><b>The Dormouse's story</b></p>\n",
    "\n",
    "<p class=\"story\">Once upon a time there were three little sisters; and their names were\n",
    "<a href=\"http://example.com/elsie\" class=\"sister\" id=\"link1\">Elsie</a>,\n",
    "<a href=\"http://example.com/lacie\" class=\"sister\" id=\"link2\">Lacie</a> and\n",
    "<a href=\"http://example.com/tillie\" class=\"sister\" id=\"link3\">Tillie</a>;\n",
    "and they lived at the bottom of a well.</p>\n",
    "\n",
    "<p class=\"story\">...</p>\n",
    "\"\"\"\n",
    "\n",
    "from bs4 import BeautifulSoup\n",
    "soup = BeautifulSoup(html_doc, 'html.parser')\n",
    "\n",
    "print(soup)"
   ]
  },
  {
   "cell_type": "code",
   "execution_count": 9,
   "metadata": {},
   "outputs": [
    {
     "name": "stdout",
     "output_type": "stream",
     "text": [
      "\n",
      "The Dormouse's story\n",
      "\n",
      "The Dormouse's story\n",
      "Once upon a time there were three little sisters; and their names were\n",
      "Elsie,\n",
      "Lacie and\n",
      "Tillie;\n",
      "and they lived at the bottom of a well.\n",
      "...\n",
      "\n"
     ]
    }
   ],
   "source": [
    "print(soup.text)"
   ]
  },
  {
   "cell_type": "code",
   "execution_count": 14,
   "metadata": {},
   "outputs": [],
   "source": [
    "headers= {\n",
    "\n",
    "  \"User agent\" : \"Mozilla/5.0 (Windows NT 10.0; Win64; x64) AppleWebKit/537.36 (KHTML, like Gecko) Chrome/127.0.0.0 Safari/537.36\"\n",
    "\n",
    "}"
   ]
  },
  {
   "cell_type": "code",
   "execution_count": 21,
   "metadata": {},
   "outputs": [
    {
     "name": "stdout",
     "output_type": "stream",
     "text": [
      "True\n"
     ]
    }
   ],
   "source": [
    "url = \"https://beautiful-soup-4.readthedocs.io/en/latest/\"\n",
    "response = requests.get(url, headers=headers)\n",
    "\n",
    "if response.status_code == 200:\n",
    "    soup = BeautifulSoup(response.content, 'lxml')\n",
    "    print(True)\n",
    "    # print(soup.prettify())\n",
    "    # print(soup.text)\n",
    "else:\n",
    "    print(f\"Failed to retrieve the page. Status code: {response.status_code}\")"
   ]
  },
  {
   "cell_type": "code",
   "execution_count": 23,
   "metadata": {},
   "outputs": [
    {
     "data": {
      "text/plain": [
       "[]"
      ]
     },
     "execution_count": 23,
     "metadata": {},
     "output_type": "execute_result"
    }
   ],
   "source": [
    "review_elements = soup.select(\"div.review\")\n",
    "review_elements"
   ]
  },
  {
   "cell_type": "code",
   "execution_count": 24,
   "metadata": {},
   "outputs": [],
   "source": [
    "import requests\n",
    "from bs4 import BeautifulSoup\n",
    "import pandas as pd\n",
    "\n",
    "custom_headers = {\n",
    "    \"Accept-language\": \"en-GB,en;q=0.9\",\n",
    "    \"Accept-Encoding\": \"gzip, deflate, br\",\n",
    "    \"Cache-Control\": \"max-age=0\",\n",
    "    \"Connection\": \"keep-alive\",\n",
    "    \"User-agent\": \"Mozilla/5.0 (Macintosh; Intel Mac OS X 10_15_7) AppleWebKit/605.1.15 (KHTML, like Gecko) Version/17.1 Safari/605.1.15\",\n",
    "}\n",
    "\n",
    "def get_soup(url):\n",
    "    response = requests.get(url, headers=custom_headers)\n",
    "\n",
    "    if response.status_code != 200:\n",
    "        print(\"Error in getting webpage\")\n",
    "        exit(-1)\n",
    "\n",
    "    soup = BeautifulSoup(response.text, \"lxml\")\n",
    "    return soup\n",
    "\n",
    "def get_reviews(soup):\n",
    "    review_elements = soup.select(\"div.review\")\n",
    "\n",
    "    scraped_reviews = []\n",
    "\n",
    "    for review in review_elements:\n",
    "        r_author_element = review.select_one(\"span.a-profile-name\")\n",
    "        r_author = r_author_element.text if r_author_element else None\n",
    "\n",
    "        r_rating_element = review.select_one(\"i.review-rating\")\n",
    "        r_rating = r_rating_element.text.replace(\"out of 5 stars\", \"\") if r_rating_element else None\n",
    "\n",
    "        r_title_element = review.select_one(\"a.review-title\")\n",
    "        r_title_span_element = r_title_element.select_one(\"span:not([class])\") if r_title_element else None\n",
    "        r_title = r_title_span_element.text if r_title_span_element else None\n",
    "\n",
    "        r_content_element = review.select_one(\"span.review-text\")\n",
    "        r_content = r_content_element.text if r_content_element else None\n",
    "\n",
    "        r_date_element = review.select_one(\"span.review-date\")\n",
    "        r_date = r_date_element.text if r_date_element else None\n",
    "\n",
    "        r_verified_element = review.select_one(\"span.a-size-mini\")\n",
    "        r_verified = r_verified_element.text if r_verified_element else None\n",
    "\n",
    "        r_image_element = review.select_one(\"img.review-image-tile\")\n",
    "        r_image = r_image_element.attrs[\"src\"] if r_image_element else None\n",
    "\n",
    "        r = {\n",
    "            \"author\": r_author,\n",
    "            \"rating\": r_rating,\n",
    "            \"title\": r_title,\n",
    "            \"content\": r_content,\n",
    "            \"date\": r_date,\n",
    "            \"verified\": r_verified,\n",
    "            \"image_url\": r_image\n",
    "        }\n",
    "\n",
    "        scraped_reviews.append(r)\n",
    "\n",
    "    return scraped_reviews\n",
    "\n",
    "def main():\n",
    "    search_url = \"https://www.amazon.com/BERIBES-Cancelling-Transparent-Soft-Earpads-Charging-Black/product-reviews/B0CDC4X65Q/ref=cm_cr_dp_d_show_all_btm?ie=UTF8&reviewerType=all_reviews\"\n",
    "    soup = get_soup(search_url)\n",
    "    data = get_reviews(soup)\n",
    "    df = pd.DataFrame(data=data)\n",
    "\n",
    "    df.to_csv(\"amz.csv\")\n",
    "\n",
    "if __name__ == '__main__':\n",
    "    main()"
   ]
  },
  {
   "cell_type": "code",
   "execution_count": 35,
   "metadata": {},
   "outputs": [
    {
     "data": {
      "text/html": [
       "<div>\n",
       "<style scoped>\n",
       "    .dataframe tbody tr th:only-of-type {\n",
       "        vertical-align: middle;\n",
       "    }\n",
       "\n",
       "    .dataframe tbody tr th {\n",
       "        vertical-align: top;\n",
       "    }\n",
       "\n",
       "    .dataframe thead th {\n",
       "        text-align: right;\n",
       "    }\n",
       "</style>\n",
       "<table border=\"1\" class=\"dataframe\">\n",
       "  <thead>\n",
       "    <tr style=\"text-align: right;\">\n",
       "      <th></th>\n",
       "      <th>Unnamed: 0</th>\n",
       "      <th>author</th>\n",
       "      <th>rating</th>\n",
       "      <th>title</th>\n",
       "      <th>content</th>\n",
       "      <th>date</th>\n",
       "      <th>verified</th>\n",
       "      <th>image_url</th>\n",
       "    </tr>\n",
       "  </thead>\n",
       "  <tbody>\n",
       "    <tr>\n",
       "      <th>0</th>\n",
       "      <td>0</td>\n",
       "      <td>Vicki</td>\n",
       "      <td>5.0</td>\n",
       "      <td>Very worth the price</td>\n",
       "      <td>\\n1. Very smooth and soft material. Comfortabl...</td>\n",
       "      <td>Reviewed in the United States on August 11, 2024</td>\n",
       "      <td>Verified Purchase</td>\n",
       "      <td>https://m.media-amazon.com/images/I/61JqzCLE+l...</td>\n",
       "    </tr>\n",
       "    <tr>\n",
       "      <th>1</th>\n",
       "      <td>1</td>\n",
       "      <td>AmazonShopper</td>\n",
       "      <td>5.0</td>\n",
       "      <td>good for the price</td>\n",
       "      <td>\\nthese work well. I got them when they were d...</td>\n",
       "      <td>Reviewed in the United States on August 11, 2024</td>\n",
       "      <td>Verified Purchase</td>\n",
       "      <td>NaN</td>\n",
       "    </tr>\n",
       "    <tr>\n",
       "      <th>2</th>\n",
       "      <td>2</td>\n",
       "      <td>Dragongravy</td>\n",
       "      <td>4.0</td>\n",
       "      <td>great set of headphones for the money</td>\n",
       "      <td>\\npros- great sound, decent bass, holds a char...</td>\n",
       "      <td>Reviewed in the United States on July 26, 2024</td>\n",
       "      <td>Verified Purchase</td>\n",
       "      <td>NaN</td>\n",
       "    </tr>\n",
       "    <tr>\n",
       "      <th>3</th>\n",
       "      <td>3</td>\n",
       "      <td>Mike</td>\n",
       "      <td>5.0</td>\n",
       "      <td>The audio is crystal clear and perfect for mus...</td>\n",
       "      <td>\\nI'm thoroughly impressed with the sound qual...</td>\n",
       "      <td>Reviewed in the United States on August 6, 2024</td>\n",
       "      <td>Verified Purchase</td>\n",
       "      <td>https://m.media-amazon.com/images/I/71kSi6frIH...</td>\n",
       "    </tr>\n",
       "    <tr>\n",
       "      <th>4</th>\n",
       "      <td>4</td>\n",
       "      <td>TW in New York</td>\n",
       "      <td>5.0</td>\n",
       "      <td>Work Great</td>\n",
       "      <td>\\nI’ve never owned noise canceling headphones,...</td>\n",
       "      <td>Reviewed in the United States on August 10, 2024</td>\n",
       "      <td>Verified Purchase</td>\n",
       "      <td>NaN</td>\n",
       "    </tr>\n",
       "    <tr>\n",
       "      <th>5</th>\n",
       "      <td>5</td>\n",
       "      <td>rabar</td>\n",
       "      <td>3.0</td>\n",
       "      <td>You get what you pay for!</td>\n",
       "      <td>\\nI really like the price of these headphones....</td>\n",
       "      <td>Reviewed in the United States on May 8, 2024</td>\n",
       "      <td>Verified Purchase</td>\n",
       "      <td>NaN</td>\n",
       "    </tr>\n",
       "    <tr>\n",
       "      <th>6</th>\n",
       "      <td>6</td>\n",
       "      <td>Kara C</td>\n",
       "      <td>5.0</td>\n",
       "      <td>Buy them!!</td>\n",
       "      <td>\\nI am so happy w these headphones I immediate...</td>\n",
       "      <td>Reviewed in the United States on August 2, 2024</td>\n",
       "      <td>Verified Purchase</td>\n",
       "      <td>NaN</td>\n",
       "    </tr>\n",
       "    <tr>\n",
       "      <th>7</th>\n",
       "      <td>7</td>\n",
       "      <td>BLEU</td>\n",
       "      <td>5.0</td>\n",
       "      <td>Amazing!</td>\n",
       "      <td>\\nThese have lasted for almost 4 days now, jus...</td>\n",
       "      <td>Reviewed in the United States on June 22, 2024</td>\n",
       "      <td>Verified Purchase</td>\n",
       "      <td>NaN</td>\n",
       "    </tr>\n",
       "    <tr>\n",
       "      <th>8</th>\n",
       "      <td>8</td>\n",
       "      <td>PL@VT</td>\n",
       "      <td>4.0</td>\n",
       "      <td>BERIBES Upgraded Hybrid Active Noise Cancellin...</td>\n",
       "      <td>\\nBERIBES Upgraded Hybrid Active Noise Cancell...</td>\n",
       "      <td>Reviewed in the United States on July 26, 2024</td>\n",
       "      <td>Verified Purchase</td>\n",
       "      <td>NaN</td>\n",
       "    </tr>\n",
       "    <tr>\n",
       "      <th>9</th>\n",
       "      <td>9</td>\n",
       "      <td>Will P.</td>\n",
       "      <td>4.0</td>\n",
       "      <td>Pretty decent for a good price</td>\n",
       "      <td>\\nWhen I placed these on my head and got them ...</td>\n",
       "      <td>Reviewed in the United States on July 12, 2024</td>\n",
       "      <td>Verified Purchase</td>\n",
       "      <td>NaN</td>\n",
       "    </tr>\n",
       "  </tbody>\n",
       "</table>\n",
       "</div>"
      ],
      "text/plain": [
       "   Unnamed: 0          author  rating  \\\n",
       "0           0          Vicki      5.0   \n",
       "1           1   AmazonShopper     5.0   \n",
       "2           2     Dragongravy     4.0   \n",
       "3           3            Mike     5.0   \n",
       "4           4  TW in New York     5.0   \n",
       "5           5           rabar     3.0   \n",
       "6           6          Kara C     5.0   \n",
       "7           7            BLEU     5.0   \n",
       "8           8           PL@VT     4.0   \n",
       "9           9         Will P.     4.0   \n",
       "\n",
       "                                               title  \\\n",
       "0                               Very worth the price   \n",
       "1                                 good for the price   \n",
       "2              great set of headphones for the money   \n",
       "3  The audio is crystal clear and perfect for mus...   \n",
       "4                                         Work Great   \n",
       "5                          You get what you pay for!   \n",
       "6                                         Buy them!!   \n",
       "7                                           Amazing!   \n",
       "8  BERIBES Upgraded Hybrid Active Noise Cancellin...   \n",
       "9                     Pretty decent for a good price   \n",
       "\n",
       "                                             content  \\\n",
       "0  \\n1. Very smooth and soft material. Comfortabl...   \n",
       "1  \\nthese work well. I got them when they were d...   \n",
       "2  \\npros- great sound, decent bass, holds a char...   \n",
       "3  \\nI'm thoroughly impressed with the sound qual...   \n",
       "4  \\nI’ve never owned noise canceling headphones,...   \n",
       "5  \\nI really like the price of these headphones....   \n",
       "6  \\nI am so happy w these headphones I immediate...   \n",
       "7  \\nThese have lasted for almost 4 days now, jus...   \n",
       "8  \\nBERIBES Upgraded Hybrid Active Noise Cancell...   \n",
       "9  \\nWhen I placed these on my head and got them ...   \n",
       "\n",
       "                                               date           verified  \\\n",
       "0  Reviewed in the United States on August 11, 2024  Verified Purchase   \n",
       "1  Reviewed in the United States on August 11, 2024  Verified Purchase   \n",
       "2    Reviewed in the United States on July 26, 2024  Verified Purchase   \n",
       "3   Reviewed in the United States on August 6, 2024  Verified Purchase   \n",
       "4  Reviewed in the United States on August 10, 2024  Verified Purchase   \n",
       "5      Reviewed in the United States on May 8, 2024  Verified Purchase   \n",
       "6   Reviewed in the United States on August 2, 2024  Verified Purchase   \n",
       "7    Reviewed in the United States on June 22, 2024  Verified Purchase   \n",
       "8    Reviewed in the United States on July 26, 2024  Verified Purchase   \n",
       "9    Reviewed in the United States on July 12, 2024  Verified Purchase   \n",
       "\n",
       "                                           image_url  \n",
       "0  https://m.media-amazon.com/images/I/61JqzCLE+l...  \n",
       "1                                                NaN  \n",
       "2                                                NaN  \n",
       "3  https://m.media-amazon.com/images/I/71kSi6frIH...  \n",
       "4                                                NaN  \n",
       "5                                                NaN  \n",
       "6                                                NaN  \n",
       "7                                                NaN  \n",
       "8                                                NaN  \n",
       "9                                                NaN  "
      ]
     },
     "execution_count": 35,
     "metadata": {},
     "output_type": "execute_result"
    }
   ],
   "source": [
    "df1 = pd.read_csv('amz.csv')\n",
    "df1"
   ]
  },
  {
   "cell_type": "code",
   "execution_count": 36,
   "metadata": {},
   "outputs": [
    {
     "data": {
      "text/plain": [
       "(10, 8)"
      ]
     },
     "execution_count": 36,
     "metadata": {},
     "output_type": "execute_result"
    }
   ],
   "source": [
    "df1.shape"
   ]
  },
  {
   "cell_type": "code",
   "execution_count": 28,
   "metadata": {},
   "outputs": [
    {
     "data": {
      "text/plain": [
       "'https://www.amazon.in/Airdopes-141-Playtime-Resistance-Bluetooth/dp/B09N3XMZ5F/ref=sr_1_1?_encoding=UTF8&content-id=amzn1.sym.48d2178a-5f7b-4af5-98b8-fc7b096852d4&dib=eyJ2IjoiMSJ9.BfsC7O4u3uv3CQ3frcATczVpCh4QlnslMcWBTTo6Y7o96OmeaUg-pi0GskIDzVayRYvLnQOpaVitxTFuG4TPArMNZ48QwGI1aM1oDM4wJNDSjZo_eEPOEpGmsqbxr-wecxgLO04Jf8oi2g88abU-jrPzHwwGGa6WMYk4jWulYeE8yvZEI00lJNmhuPbQ_oF0iz7vydT_5CA5-9KB95n8GRz1TYAtSArVQWSXJuS6SslN5f3W_jMpS4FpXEANUsht7MYB3EZtY5mi2JLK9ksum8XRNyWFHteqBLksG_PFfDI.QOETGrM0H2mzTYnbFTa1qP8VBF5J-R8VtVTWxFDueDk&dib_tag=se&pd_rd_r=5d2b0e2d-0fa7-45e3-bdd2-2dc43de636d9&pd_rd_w=EoT7Q&pd_rd_wg=wGV4i&pf_rd_p=48d2178a-5f7b-4af5-98b8-fc7b096852d4&pf_rd_r=AB9HYGDJ1CNCVQGRNTWY&qid=1722797503&refinements=p_89%3AboAt&s=electronics&sr=1-1&th=1'"
      ]
     },
     "execution_count": 28,
     "metadata": {},
     "output_type": "execute_result"
    }
   ],
   "source": [
    "\"https://www.amazon.in/Airdopes-141-Playtime-Resistance-Bluetooth/dp/B09N3XMZ5F/ref=sr_1_1?_encoding=UTF8&content-id=amzn1.sym.48d2178a-5f7b-4af5-98b8-fc7b096852d4&dib=eyJ2IjoiMSJ9.BfsC7O4u3uv3CQ3frcATczVpCh4QlnslMcWBTTo6Y7o96OmeaUg-pi0GskIDzVayRYvLnQOpaVitxTFuG4TPArMNZ48QwGI1aM1oDM4wJNDSjZo_eEPOEpGmsqbxr-wecxgLO04Jf8oi2g88abU-jrPzHwwGGa6WMYk4jWulYeE8yvZEI00lJNmhuPbQ_oF0iz7vydT_5CA5-9KB95n8GRz1TYAtSArVQWSXJuS6SslN5f3W_jMpS4FpXEANUsht7MYB3EZtY5mi2JLK9ksum8XRNyWFHteqBLksG_PFfDI.QOETGrM0H2mzTYnbFTa1qP8VBF5J-R8VtVTWxFDueDk&dib_tag=se&pd_rd_r=5d2b0e2d-0fa7-45e3-bdd2-2dc43de636d9&pd_rd_w=EoT7Q&pd_rd_wg=wGV4i&pf_rd_p=48d2178a-5f7b-4af5-98b8-fc7b096852d4&pf_rd_r=AB9HYGDJ1CNCVQGRNTWY&qid=1722797503&refinements=p_89%3AboAt&s=electronics&sr=1-1&th=1\""
   ]
  },
  {
   "cell_type": "code",
   "execution_count": 29,
   "metadata": {},
   "outputs": [],
   "source": [
    "import requests\n",
    "from bs4 import BeautifulSoup\n",
    "import pandas as pd\n",
    "\n",
    "custom_headers = {\n",
    "    \"Accept-language\": \"en-GB,en;q=0.9\",\n",
    "    \"Accept-Encoding\": \"gzip, deflate, br\",\n",
    "    \"Cache-Control\": \"max-age=0\",\n",
    "    \"Connection\": \"keep-alive\",\n",
    "    \"User-agent\": \"Mozilla/5.0 (Macintosh; Intel Mac OS X 10_15_7) AppleWebKit/605.1.15 (KHTML, like Gecko) Version/17.1 Safari/605.1.15\",\n",
    "}\n",
    "\n",
    "def get_soup(url):\n",
    "    response = requests.get(url, headers=custom_headers)\n",
    "\n",
    "    if response.status_code != 200:\n",
    "        print(\"Error in getting webpage\")\n",
    "        exit(-1)\n",
    "\n",
    "    soup = BeautifulSoup(response.text, \"lxml\")\n",
    "    return soup\n",
    "\n",
    "def get_reviews(soup):\n",
    "    review_elements = soup.select(\"div.review\")\n",
    "\n",
    "    scraped_reviews = []\n",
    "\n",
    "    for review in review_elements:\n",
    "        r_author_element = review.select_one(\"span.a-profile-name\")\n",
    "        r_author = r_author_element.text if r_author_element else None\n",
    "\n",
    "        r_rating_element = review.select_one(\"i.review-rating\")\n",
    "        r_rating = r_rating_element.text.replace(\"out of 5 stars\", \"\") if r_rating_element else None\n",
    "\n",
    "        r_title_element = review.select_one(\"a.review-title\")\n",
    "        r_title_span_element = r_title_element.select_one(\"span:not([class])\") if r_title_element else None\n",
    "        r_title = r_title_span_element.text if r_title_span_element else None\n",
    "\n",
    "        r_content_element = review.select_one(\"span.review-text\")\n",
    "        r_content = r_content_element.text if r_content_element else None\n",
    "\n",
    "        r_date_element = review.select_one(\"span.review-date\")\n",
    "        r_date = r_date_element.text if r_date_element else None\n",
    "\n",
    "        r_verified_element = review.select_one(\"span.a-size-mini\")\n",
    "        r_verified = r_verified_element.text if r_verified_element else None\n",
    "\n",
    "        r_image_element = review.select_one(\"img.review-image-tile\")\n",
    "        r_image = r_image_element.attrs[\"src\"] if r_image_element else None\n",
    "\n",
    "        r = {\n",
    "            \"author\": r_author,\n",
    "            \"rating\": r_rating,\n",
    "            \"title\": r_title,\n",
    "            \"content\": r_content,\n",
    "            \"date\": r_date,\n",
    "            \"verified\": r_verified,\n",
    "            \"image_url\": r_image\n",
    "        }\n",
    "\n",
    "        scraped_reviews.append(r)\n",
    "\n",
    "    return scraped_reviews\n",
    "\n",
    "def main():\n",
    "    search_url = \"https://www.amazon.in/Airdopes-141-Playtime-Resistance-Bluetooth/dp/B09N3XMZ5F/ref=sr_1_1?_encoding=UTF8&content-id=amzn1.sym.48d2178a-5f7b-4af5-98b8-fc7b096852d4&dib=eyJ2IjoiMSJ9.BfsC7O4u3uv3CQ3frcATczVpCh4QlnslMcWBTTo6Y7o96OmeaUg-pi0GskIDzVayRYvLnQOpaVitxTFuG4TPArMNZ48QwGI1aM1oDM4wJNDSjZo_eEPOEpGmsqbxr-wecxgLO04Jf8oi2g88abU-jrPzHwwGGa6WMYk4jWulYeE8yvZEI00lJNmhuPbQ_oF0iz7vydT_5CA5-9KB95n8GRz1TYAtSArVQWSXJuS6SslN5f3W_jMpS4FpXEANUsht7MYB3EZtY5mi2JLK9ksum8XRNyWFHteqBLksG_PFfDI.QOETGrM0H2mzTYnbFTa1qP8VBF5J-R8VtVTWxFDueDk&dib_tag=se&pd_rd_r=5d2b0e2d-0fa7-45e3-bdd2-2dc43de636d9&pd_rd_w=EoT7Q&pd_rd_wg=wGV4i&pf_rd_p=48d2178a-5f7b-4af5-98b8-fc7b096852d4&pf_rd_r=AB9HYGDJ1CNCVQGRNTWY&qid=1722797503&refinements=p_89%3AboAt&s=electronics&sr=1-1&th=1\"\n",
    "    soup = get_soup(search_url)\n",
    "    data = get_reviews(soup)\n",
    "    df = pd.DataFrame(data=data)\n",
    "\n",
    "    df.to_csv(\"earpod_reviews.csv\")\n",
    "\n",
    "if __name__ == '__main__':\n",
    "    main()"
   ]
  },
  {
   "cell_type": "code",
   "execution_count": 32,
   "metadata": {},
   "outputs": [
    {
     "data": {
      "text/html": [
       "<div>\n",
       "<style scoped>\n",
       "    .dataframe tbody tr th:only-of-type {\n",
       "        vertical-align: middle;\n",
       "    }\n",
       "\n",
       "    .dataframe tbody tr th {\n",
       "        vertical-align: top;\n",
       "    }\n",
       "\n",
       "    .dataframe thead th {\n",
       "        text-align: right;\n",
       "    }\n",
       "</style>\n",
       "<table border=\"1\" class=\"dataframe\">\n",
       "  <thead>\n",
       "    <tr style=\"text-align: right;\">\n",
       "      <th></th>\n",
       "      <th>Unnamed: 0</th>\n",
       "    </tr>\n",
       "  </thead>\n",
       "  <tbody>\n",
       "  </tbody>\n",
       "</table>\n",
       "</div>"
      ],
      "text/plain": [
       "Empty DataFrame\n",
       "Columns: [Unnamed: 0]\n",
       "Index: []"
      ]
     },
     "execution_count": 32,
     "metadata": {},
     "output_type": "execute_result"
    }
   ],
   "source": [
    "df = pd.read_csv('earpod_reviews.csv')\n",
    "df"
   ]
  },
  {
   "cell_type": "code",
   "execution_count": 31,
   "metadata": {},
   "outputs": [
    {
     "name": "stdout",
     "output_type": "stream",
     "text": [
      "[]\n"
     ]
    }
   ],
   "source": [
    "# print(review_elements)\n"
   ]
  },
  {
   "cell_type": "code",
   "execution_count": 38,
   "metadata": {},
   "outputs": [
    {
     "data": {
      "text/plain": [
       "0    \\n1. Very smooth and soft material. Comfortabl...\n",
       "1    \\nthese work well. I got them when they were d...\n",
       "2    \\npros- great sound, decent bass, holds a char...\n",
       "3    \\nI'm thoroughly impressed with the sound qual...\n",
       "4    \\nI’ve never owned noise canceling headphones,...\n",
       "5    \\nI really like the price of these headphones....\n",
       "6    \\nI am so happy w these headphones I immediate...\n",
       "7    \\nThese have lasted for almost 4 days now, jus...\n",
       "8    \\nBERIBES Upgraded Hybrid Active Noise Cancell...\n",
       "9    \\nWhen I placed these on my head and got them ...\n",
       "Name: content, dtype: object"
      ]
     },
     "execution_count": 38,
     "metadata": {},
     "output_type": "execute_result"
    }
   ],
   "source": [
    "df1.content"
   ]
  },
  {
   "cell_type": "code",
   "execution_count": 48,
   "metadata": {},
   "outputs": [],
   "source": [
    "df1.content = [x for x in df1.content.replace(\"\\n\", \" \")]"
   ]
  },
  {
   "cell_type": "code",
   "execution_count": 49,
   "metadata": {},
   "outputs": [
    {
     "data": {
      "text/html": [
       "<div>\n",
       "<style scoped>\n",
       "    .dataframe tbody tr th:only-of-type {\n",
       "        vertical-align: middle;\n",
       "    }\n",
       "\n",
       "    .dataframe tbody tr th {\n",
       "        vertical-align: top;\n",
       "    }\n",
       "\n",
       "    .dataframe thead th {\n",
       "        text-align: right;\n",
       "    }\n",
       "</style>\n",
       "<table border=\"1\" class=\"dataframe\">\n",
       "  <thead>\n",
       "    <tr style=\"text-align: right;\">\n",
       "      <th></th>\n",
       "      <th>Unnamed: 0</th>\n",
       "      <th>author</th>\n",
       "      <th>rating</th>\n",
       "      <th>title</th>\n",
       "      <th>content</th>\n",
       "      <th>date</th>\n",
       "      <th>verified</th>\n",
       "      <th>image_url</th>\n",
       "    </tr>\n",
       "  </thead>\n",
       "  <tbody>\n",
       "    <tr>\n",
       "      <th>0</th>\n",
       "      <td>0</td>\n",
       "      <td>Vicki</td>\n",
       "      <td>5.0</td>\n",
       "      <td>Very worth the price</td>\n",
       "      <td>\\n1. Very smooth and soft material. Comfortabl...</td>\n",
       "      <td>Reviewed in the United States on August 11, 2024</td>\n",
       "      <td>Verified Purchase</td>\n",
       "      <td>https://m.media-amazon.com/images/I/61JqzCLE+l...</td>\n",
       "    </tr>\n",
       "    <tr>\n",
       "      <th>1</th>\n",
       "      <td>1</td>\n",
       "      <td>AmazonShopper</td>\n",
       "      <td>5.0</td>\n",
       "      <td>good for the price</td>\n",
       "      <td>\\nthese work well. I got them when they were d...</td>\n",
       "      <td>Reviewed in the United States on August 11, 2024</td>\n",
       "      <td>Verified Purchase</td>\n",
       "      <td>NaN</td>\n",
       "    </tr>\n",
       "    <tr>\n",
       "      <th>2</th>\n",
       "      <td>2</td>\n",
       "      <td>Dragongravy</td>\n",
       "      <td>4.0</td>\n",
       "      <td>great set of headphones for the money</td>\n",
       "      <td>\\npros- great sound, decent bass, holds a char...</td>\n",
       "      <td>Reviewed in the United States on July 26, 2024</td>\n",
       "      <td>Verified Purchase</td>\n",
       "      <td>NaN</td>\n",
       "    </tr>\n",
       "    <tr>\n",
       "      <th>3</th>\n",
       "      <td>3</td>\n",
       "      <td>Mike</td>\n",
       "      <td>5.0</td>\n",
       "      <td>The audio is crystal clear and perfect for mus...</td>\n",
       "      <td>\\nI'm thoroughly impressed with the sound qual...</td>\n",
       "      <td>Reviewed in the United States on August 6, 2024</td>\n",
       "      <td>Verified Purchase</td>\n",
       "      <td>https://m.media-amazon.com/images/I/71kSi6frIH...</td>\n",
       "    </tr>\n",
       "    <tr>\n",
       "      <th>4</th>\n",
       "      <td>4</td>\n",
       "      <td>TW in New York</td>\n",
       "      <td>5.0</td>\n",
       "      <td>Work Great</td>\n",
       "      <td>\\nI’ve never owned noise canceling headphones,...</td>\n",
       "      <td>Reviewed in the United States on August 10, 2024</td>\n",
       "      <td>Verified Purchase</td>\n",
       "      <td>NaN</td>\n",
       "    </tr>\n",
       "    <tr>\n",
       "      <th>5</th>\n",
       "      <td>5</td>\n",
       "      <td>rabar</td>\n",
       "      <td>3.0</td>\n",
       "      <td>You get what you pay for!</td>\n",
       "      <td>\\nI really like the price of these headphones....</td>\n",
       "      <td>Reviewed in the United States on May 8, 2024</td>\n",
       "      <td>Verified Purchase</td>\n",
       "      <td>NaN</td>\n",
       "    </tr>\n",
       "    <tr>\n",
       "      <th>6</th>\n",
       "      <td>6</td>\n",
       "      <td>Kara C</td>\n",
       "      <td>5.0</td>\n",
       "      <td>Buy them!!</td>\n",
       "      <td>\\nI am so happy w these headphones I immediate...</td>\n",
       "      <td>Reviewed in the United States on August 2, 2024</td>\n",
       "      <td>Verified Purchase</td>\n",
       "      <td>NaN</td>\n",
       "    </tr>\n",
       "    <tr>\n",
       "      <th>7</th>\n",
       "      <td>7</td>\n",
       "      <td>BLEU</td>\n",
       "      <td>5.0</td>\n",
       "      <td>Amazing!</td>\n",
       "      <td>\\nThese have lasted for almost 4 days now, jus...</td>\n",
       "      <td>Reviewed in the United States on June 22, 2024</td>\n",
       "      <td>Verified Purchase</td>\n",
       "      <td>NaN</td>\n",
       "    </tr>\n",
       "    <tr>\n",
       "      <th>8</th>\n",
       "      <td>8</td>\n",
       "      <td>PL@VT</td>\n",
       "      <td>4.0</td>\n",
       "      <td>BERIBES Upgraded Hybrid Active Noise Cancellin...</td>\n",
       "      <td>\\nBERIBES Upgraded Hybrid Active Noise Cancell...</td>\n",
       "      <td>Reviewed in the United States on July 26, 2024</td>\n",
       "      <td>Verified Purchase</td>\n",
       "      <td>NaN</td>\n",
       "    </tr>\n",
       "    <tr>\n",
       "      <th>9</th>\n",
       "      <td>9</td>\n",
       "      <td>Will P.</td>\n",
       "      <td>4.0</td>\n",
       "      <td>Pretty decent for a good price</td>\n",
       "      <td>\\nWhen I placed these on my head and got them ...</td>\n",
       "      <td>Reviewed in the United States on July 12, 2024</td>\n",
       "      <td>Verified Purchase</td>\n",
       "      <td>NaN</td>\n",
       "    </tr>\n",
       "  </tbody>\n",
       "</table>\n",
       "</div>"
      ],
      "text/plain": [
       "   Unnamed: 0          author  rating  \\\n",
       "0           0          Vicki      5.0   \n",
       "1           1   AmazonShopper     5.0   \n",
       "2           2     Dragongravy     4.0   \n",
       "3           3            Mike     5.0   \n",
       "4           4  TW in New York     5.0   \n",
       "5           5           rabar     3.0   \n",
       "6           6          Kara C     5.0   \n",
       "7           7            BLEU     5.0   \n",
       "8           8           PL@VT     4.0   \n",
       "9           9         Will P.     4.0   \n",
       "\n",
       "                                               title  \\\n",
       "0                               Very worth the price   \n",
       "1                                 good for the price   \n",
       "2              great set of headphones for the money   \n",
       "3  The audio is crystal clear and perfect for mus...   \n",
       "4                                         Work Great   \n",
       "5                          You get what you pay for!   \n",
       "6                                         Buy them!!   \n",
       "7                                           Amazing!   \n",
       "8  BERIBES Upgraded Hybrid Active Noise Cancellin...   \n",
       "9                     Pretty decent for a good price   \n",
       "\n",
       "                                             content  \\\n",
       "0  \\n1. Very smooth and soft material. Comfortabl...   \n",
       "1  \\nthese work well. I got them when they were d...   \n",
       "2  \\npros- great sound, decent bass, holds a char...   \n",
       "3  \\nI'm thoroughly impressed with the sound qual...   \n",
       "4  \\nI’ve never owned noise canceling headphones,...   \n",
       "5  \\nI really like the price of these headphones....   \n",
       "6  \\nI am so happy w these headphones I immediate...   \n",
       "7  \\nThese have lasted for almost 4 days now, jus...   \n",
       "8  \\nBERIBES Upgraded Hybrid Active Noise Cancell...   \n",
       "9  \\nWhen I placed these on my head and got them ...   \n",
       "\n",
       "                                               date           verified  \\\n",
       "0  Reviewed in the United States on August 11, 2024  Verified Purchase   \n",
       "1  Reviewed in the United States on August 11, 2024  Verified Purchase   \n",
       "2    Reviewed in the United States on July 26, 2024  Verified Purchase   \n",
       "3   Reviewed in the United States on August 6, 2024  Verified Purchase   \n",
       "4  Reviewed in the United States on August 10, 2024  Verified Purchase   \n",
       "5      Reviewed in the United States on May 8, 2024  Verified Purchase   \n",
       "6   Reviewed in the United States on August 2, 2024  Verified Purchase   \n",
       "7    Reviewed in the United States on June 22, 2024  Verified Purchase   \n",
       "8    Reviewed in the United States on July 26, 2024  Verified Purchase   \n",
       "9    Reviewed in the United States on July 12, 2024  Verified Purchase   \n",
       "\n",
       "                                           image_url  \n",
       "0  https://m.media-amazon.com/images/I/61JqzCLE+l...  \n",
       "1                                                NaN  \n",
       "2                                                NaN  \n",
       "3  https://m.media-amazon.com/images/I/71kSi6frIH...  \n",
       "4                                                NaN  \n",
       "5                                                NaN  \n",
       "6                                                NaN  \n",
       "7                                                NaN  \n",
       "8                                                NaN  \n",
       "9                                                NaN  "
      ]
     },
     "execution_count": 49,
     "metadata": {},
     "output_type": "execute_result"
    }
   ],
   "source": [
    "df1"
   ]
  },
  {
   "cell_type": "code",
   "execution_count": 58,
   "metadata": {},
   "outputs": [],
   "source": [
    "data = df1['content']"
   ]
  },
  {
   "cell_type": "code",
   "execution_count": 60,
   "metadata": {},
   "outputs": [],
   "source": [
    "data = data.str.replace('\\n', \"\")"
   ]
  },
  {
   "cell_type": "code",
   "execution_count": 61,
   "metadata": {},
   "outputs": [
    {
     "data": {
      "text/plain": [
       "0    1. Very smooth and soft material. Comfortable ...\n",
       "1    these work well. I got them when they were dis...\n",
       "2    pros- great sound, decent bass, holds a charge...\n",
       "3    I'm thoroughly impressed with the sound qualit...\n",
       "4    I’ve never owned noise canceling headphones, s...\n",
       "5    I really like the price of these headphones.  ...\n",
       "6    I am so happy w these headphones I immediately...\n",
       "7    These have lasted for almost 4 days now, just ...\n",
       "8    BERIBES Upgraded Hybrid Active Noise Cancellin...\n",
       "9    When I placed these on my head and got them pa...\n",
       "Name: content, dtype: object"
      ]
     },
     "execution_count": 61,
     "metadata": {},
     "output_type": "execute_result"
    }
   ],
   "source": [
    "data"
   ]
  },
  {
   "cell_type": "code",
   "execution_count": 62,
   "metadata": {},
   "outputs": [
    {
     "data": {
      "text/plain": [
       "0    1. Very smooth and soft material. Comfortable ...\n",
       "1    these work well. I got them when they were dis...\n",
       "2    pros- great sound, decent bass, holds a charge...\n",
       "3    I'm thoroughly impressed with the sound qualit...\n",
       "4    I’ve never owned noise canceling headphones, s...\n",
       "5    I really like the price of these headphones.  ...\n",
       "6    I am so happy w these headphones I immediately...\n",
       "7    These have lasted for almost 4 days now, just ...\n",
       "8    BERIBES Upgraded Hybrid Active Noise Cancellin...\n",
       "9    When I placed these on my head and got them pa...\n",
       "Name: content, dtype: object"
      ]
     },
     "execution_count": 62,
     "metadata": {},
     "output_type": "execute_result"
    }
   ],
   "source": [
    "data"
   ]
  },
  {
   "cell_type": "code",
   "execution_count": 67,
   "metadata": {},
   "outputs": [
    {
     "name": "stdout",
     "output_type": "stream",
     "text": [
      "898\n",
      "519\n",
      "784\n",
      "539\n",
      "395\n",
      "1601\n",
      "444\n",
      "1078\n",
      "573\n",
      "551\n"
     ]
    }
   ],
   "source": [
    "for i in data:\n",
    "    print(len(i))"
   ]
  },
  {
   "cell_type": "code",
   "execution_count": 76,
   "metadata": {},
   "outputs": [],
   "source": [
    "max = []\n",
    "\n",
    "for i in data:\n",
    "  max.append(len(i))\n",
    "\n",
    "largest = [int(x) for x in max]"
   ]
  },
  {
   "cell_type": "code",
   "execution_count": 79,
   "metadata": {},
   "outputs": [
    {
     "name": "stdout",
     "output_type": "stream",
     "text": [
      "1601\n"
     ]
    }
   ],
   "source": [
    "num = 0 \n",
    "for i in max:\n",
    "  if i> num:\n",
    "    num = i \n",
    "\n",
    "print(num)"
   ]
  },
  {
   "cell_type": "code",
   "execution_count": 80,
   "metadata": {},
   "outputs": [],
   "source": [
    "largest = num"
   ]
  },
  {
   "cell_type": "code",
   "execution_count": 81,
   "metadata": {},
   "outputs": [
    {
     "data": {
      "text/plain": [
       "1601"
      ]
     },
     "execution_count": 81,
     "metadata": {},
     "output_type": "execute_result"
    }
   ],
   "source": [
    "largest"
   ]
  },
  {
   "cell_type": "code",
   "execution_count": null,
   "metadata": {},
   "outputs": [],
   "source": []
  }
 ],
 "metadata": {
  "kernelspec": {
   "display_name": "Python 3",
   "language": "python",
   "name": "python3"
  },
  "language_info": {
   "codemirror_mode": {
    "name": "ipython",
    "version": 3
   },
   "file_extension": ".py",
   "mimetype": "text/x-python",
   "name": "python",
   "nbconvert_exporter": "python",
   "pygments_lexer": "ipython3",
   "version": "3.11.1"
  }
 },
 "nbformat": 4,
 "nbformat_minor": 2
}
